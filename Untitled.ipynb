{
 "cells": [
  {
   "cell_type": "code",
   "execution_count": 1,
   "id": "9fc5374b-94dc-4748-9a4b-779ff8075ba2",
   "metadata": {},
   "outputs": [
    {
     "name": "stdout",
     "output_type": "stream",
     "text": [
      "         data  num_pedido  faturamento  custo  \\\n",
      "0  08/01/2020        2723          165   64.9   \n",
      "1  08/01/2020        2182          117   45.5   \n",
      "2  09/01/2020        1740           15    5.1   \n",
      "3  09/01/2020        2327           31    9.9   \n",
      "4  09/01/2020         549          168   67.2   \n",
      "\n",
      "                                        nome_produto  tipo  \n",
      "0  Bolo Pasta Americana Redondo (2 Camadas Rechei...  DOCE  \n",
      "1  Bolo Chantilly Redondo (2 Camadas Recheio + To...  DOCE  \n",
      "2            Docinhos Simples - 20 UNID - Brigadeiro  DOCE  \n",
      "3               Docinhos Simples - 50 UNID - Sortido  DOCE  \n",
      "4  Bolo Pasta Americana Redondo (2 Camadas Rechei...  DOCE  \n",
      "Arquivo CSV criado com sucesso!\n"
     ]
    }
   ],
   "source": [
    "import pandas as pd\n",
    "from pyspark.sql import SparkSession\n",
    "from pyspark.sql.functions import to_date\n",
    "\n",
    "# Caminho para o arquivo Excel data_faturamento\n",
    "file_path = 'downloads/data_faturamento.xlsx'  # Substitua pelo caminho correto do arquivo\n",
    "\n",
    "# Carregar o arquivo Excel em um DataFrame do Pandas\n",
    "df = pd.read_excel(file_path)\n",
    "\n",
    "# Exibir as primeiras linhas para verificar o conteúdo\n",
    "print(df.head())\n",
    "\n",
    "# Converter o DataFrame para CSV\n",
    "df.to_csv('data_faturamento.csv', index=False)\n",
    "print(\"Arquivo CSV criado com sucesso!\")\n"
   ]
  },
  {
   "cell_type": "code",
   "execution_count": 3,
   "id": "0e3b54e3-794e-4ddc-9315-f25d5bf2ac05",
   "metadata": {},
   "outputs": [
    {
     "name": "stdout",
     "output_type": "stream",
     "text": [
      "Tabela criada com sucesso!\n"
     ]
    }
   ],
   "source": [
    "import psycopg2\n",
    "\n",
    "# Configuração da conexão com PostgreSQL\n",
    "try:\n",
    "    conn = psycopg2.connect(\n",
    "        host=\"localhost\",  # Conectando ao banco de dados local\n",
    "        port=\"5432\",  # Porta padrão do Postgre\n",
    "        database=\"testdb\",  # Nome do banco de dados \n",
    "        user=\"postgres\",  # Usuário do Postgre\n",
    "        password=\"root\"  # Senha do Postgre\n",
    "    )\n",
    "    conn.autocommit = True\n",
    "    cursor = conn.cursor()\n",
    "\n",
    "    # Criar a tabela no banco de dados com as colunas corretas\n",
    "    cursor.execute(\"\"\"\n",
    "        DROP TABLE IF EXISTS faturamento;\n",
    "        CREATE TABLE faturamento (\n",
    "            data DATE,\n",
    "            num_pedido INTEGER,\n",
    "            faturamento NUMERIC(10, 2),\n",
    "            custo NUMERIC(10, 2),\n",
    "            nome_produto VARCHAR(255),\n",
    "            tipo VARCHAR(50)\n",
    "        );\n",
    "    \"\"\")\n",
    "    print(\"Tabela criada com sucesso!\")\n",
    "\n",
    "except Exception as e:\n",
    "    print(f\"Erro ao conectar ou criar a tabela: {e}\")\n",
    "\n",
    "finally:\n",
    "    # Fechar a conexão\n",
    "    if cursor:\n",
    "        cursor.close()\n",
    "    if conn:\n",
    "        conn.close()\n"
   ]
  },
  {
   "cell_type": "code",
   "execution_count": 5,
   "id": "27d9c271-0ccc-41a2-8a96-2d72127e2094",
   "metadata": {},
   "outputs": [
    {
     "name": "stdout",
     "output_type": "stream",
     "text": [
      "+----------+----------+-----------+-----+--------------------+----+\n",
      "|      data|num_pedido|faturamento|custo|        nome_produto|tipo|\n",
      "+----------+----------+-----------+-----+--------------------+----+\n",
      "|2020-01-08|      2723|        165| 64.9|Bolo Pasta Americ...|DOCE|\n",
      "|2020-01-08|      2182|        117| 45.5|Bolo Chantilly Re...|DOCE|\n",
      "|2020-01-09|      1740|         15|  5.1|Docinhos Simples ...|DOCE|\n",
      "|2020-01-09|      2327|         31|  9.9|Docinhos Simples ...|DOCE|\n",
      "|2020-01-09|       549|        168| 67.2|Bolo Pasta Americ...|DOCE|\n",
      "+----------+----------+-----------+-----+--------------------+----+\n",
      "only showing top 5 rows\n",
      "\n",
      "Dados inseridos com sucesso no PostgreSQL!\n",
      "SparkSession encerrada com sucesso!\n"
     ]
    }
   ],
   "source": [
    "# Especificar o caminho para o driver JDBC do PostgreSQL\n",
    "jdbc_driver_path = \"C:/Program Files/Drivers/postgresql-42.7.4.jar\"  # Substitua pelo caminho real do seu driver .jar\n",
    "\n",
    "# Criar uma SparkSession com o driver JDBC\n",
    "spark = SparkSession.builder \\\n",
    "    .appName(\"Inserção de Dados no PostgreSQL\") \\\n",
    "    .config(\"spark.jars\", jdbc_driver_path) \\\n",
    "    .getOrCreate()\n",
    "\n",
    "# Carregar o CSV em um DataFrame do PySpark\n",
    "spark_df = spark.read.csv('data_faturamento.csv', header=True, inferSchema=True)\n",
    "\n",
    "# Converter a coluna 'data' para o formato de data apropriado\n",
    "spark_df = spark_df.withColumn(\"data\", to_date(spark_df[\"data\"], \"dd/MM/yyyy\"))\n",
    "\n",
    "# Exibir as primeiras linhas para verificar\n",
    "spark_df.show(5)\n",
    "\n",
    "# Inserir os dados no PostgreSQL\n",
    "spark_df.write \\\n",
    "    .format(\"jdbc\") \\\n",
    "    .option(\"url\", \"jdbc:postgresql://localhost:5432/testdb\") \\\n",
    "    .option(\"dbtable\", \"faturamento\") \\\n",
    "    .option(\"user\", \"postgres\") \\\n",
    "    .option(\"password\", \"root\") \\\n",
    "    .option(\"driver\", \"org.postgresql.Driver\") \\\n",
    "    .mode(\"append\") \\\n",
    "    .save()\n",
    "\n",
    "print(\"Dados inseridos com sucesso no PostgreSQL!\")\n",
    "\n",
    "# Encerrar a sessão Spark\n",
    "spark.stop()\n",
    "print(\"SparkSession encerrada com sucesso!\")\n"
   ]
  },
  {
   "cell_type": "code",
   "execution_count": null,
   "id": "723ef1a2-efe8-4d87-94e5-4c6c2b08a520",
   "metadata": {},
   "outputs": [],
   "source": []
  }
 ],
 "metadata": {
  "kernelspec": {
   "display_name": "Python 3 (ipykernel)",
   "language": "python",
   "name": "python3"
  },
  "language_info": {
   "codemirror_mode": {
    "name": "ipython",
    "version": 3
   },
   "file_extension": ".py",
   "mimetype": "text/x-python",
   "name": "python",
   "nbconvert_exporter": "python",
   "pygments_lexer": "ipython3",
   "version": "3.12.4"
  }
 },
 "nbformat": 4,
 "nbformat_minor": 5
}
